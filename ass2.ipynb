{
 "cells": [
  {
   "cell_type": "markdown",
   "metadata": {},
   "source": [
    "1.What are the two values of the Boolean data type? How do you write them?\n",
    "A variable of the primitive data type boolean can have two values: true and false (Boolean literals). or off. Boolean \n",
    "expressions use relational and logical operators. The result of a Boolean expression is either true or false."
   ]
  },
  {
   "cell_type": "markdown",
   "metadata": {},
   "source": [
    "2. What are the three different types of Boolean operators?\n",
    "The three basic boolean operators are: AND, OR, and NOT."
   ]
  },
  {
   "cell_type": "markdown",
   "metadata": {},
   "source": [
    "3. Make a list of each Boolean operator truth tables (i.e. every possible combination of Booleanvalues for the operator and\n",
    "what it evaluate ).\n",
    "And operation table\n",
    "A\tB\tQ\n",
    "0\t0\t0\n",
    "0\t1\t0\n",
    "1\t0\t0\n",
    "1\t1\t1\n",
    "\n",
    "OR operation\n",
    "A\tB\tQ\n",
    "0\t0\t0\n",
    "0\t1\t1\n",
    "1\t0\t1\n",
    "1\t1\t1\n",
    "\n",
    "NOT operation\n",
    "A\tQ\n",
    "0\t1\n",
    "1\t0"
   ]
  },
  {
   "cell_type": "markdown",
   "metadata": {},
   "source": [
    "4. What are the values of the following expressions?\n",
    "(5 > 4) and (3 == 5)       --- false\n",
    "not (5 > 4)             --- false\n",
    "(5 > 4) or (3 == 5)        ---- true\n",
    "not ((5 > 4) or (3 == 5)) ------ false\n",
    "(True and True) and (True == False)   --- false\n",
    "(not False) or (not True)    ---- true"
   ]
  },
  {
   "cell_type": "markdown",
   "metadata": {},
   "source": [
    "5. What are the six comparison operators?\n",
    "Concluding for today, we learned six comparison operator in python. These are- python less than, python greater than, Less Than\n",
    "or Equal To, Equal to or greater than, Python Equal To and Python Not Equal Operator."
   ]
  },
  {
   "cell_type": "markdown",
   "metadata": {},
   "source": [
    "6. How do you tell the difference between the equal to and assignment operators?Describe acondition and when you would use one.\n",
    "= is an Assignment Operator in C, C++ and other programming languages, It is Binary Operator which operates on two operands.\n",
    "= assigns the value of right side expression’s or variable’s value to the left side variable.\n",
    "\n",
    "Equal To Operator (==)\n",
    "== is an Equal To Operator in C and C++ only, It is Binary Operator which operates on two operands.\n",
    "\n",
    "== compares value of left and side expressions, return 1 if they are equal other will it will return 0."
   ]
  },
  {
   "cell_type": "markdown",
   "metadata": {},
   "source": [
    "7. Identify the three blocks in this code:\n",
    "spam = 0\n",
    "if spam == 10:\n",
    "print(\"egg\")\n",
    "if spam > 5:\n",
    "print(\"bacon\")\n",
    "else:\n",
    "print(\"ham\")\n",
    "print(\"spam\")\n",
    "print(\"spam\")\n",
    "\n",
    "\n",
    "first block\n",
    "spam = 0\n",
    "if spam == 10:\n",
    "print(\"egg\")\n",
    "\n",
    "Second block\n",
    "if spam > 5:\n",
    "print(\"bacon\")\n",
    "else:\n",
    "print(\"ham\")\n",
    "\n",
    "Third lock\n",
    "print(\"spam\")\n",
    "print(\"spam\")\n"
   ]
  },
  {
   "cell_type": "markdown",
   "metadata": {},
   "source": [
    "8. Write code that prints Hello if 1 is stored in spam, prints Howdy if 2 is stored in spam, and printsGreetings! if anything else is stored in spam.\n",
    "spam=int(input(\"enter your number\"))\n",
    "if spam==1:\n",
    "    print(\"howdy\")\n",
    "if spam==2:\n",
    "    print(\"greeting\")\n",
    "else:\n",
    "    print(\"wrong outpuy\")"
   ]
  },
  {
   "cell_type": "markdown",
   "metadata": {},
   "source": [
    "9. If your programme is stuck in an endless loop, what keys you’ll press?\n",
    "You can press Ctrl + C ."
   ]
  },
  {
   "cell_type": "markdown",
   "metadata": {},
   "source": [
    "10. How can you tell the difference between break and continue?\n",
    "Break statements exist in Python to exit or “break” a for or while conditional loop. ... The continue statement is used to skip\n",
    "code within a loop for certain iterations of the loop. After the code is skipped, the loop continues where it left off."
   ]
  },
  {
   "cell_type": "markdown",
   "metadata": {},
   "source": [
    "11. In a for loop, what is the difference between range(10), range(0, 10), and range(0, 10, 1)?\n",
    "it print same output in all method but difference in nothing , it is used that start ,end , step point "
   ]
  },
  {
   "cell_type": "markdown",
   "metadata": {},
   "source": [
    "12. Write a short program that prints the numbers 1 to 10 using a for loop. Then write an equivalentprogram that prints the numbers\n",
    "1 to 10 using a while loop.\n",
    "\n",
    "ans-- for i in range(1,11):\n",
    "          print(i)\n",
    "using while loop,\n",
    "i = 1\n",
    "while(i<=10):\n",
    "    print(i)\n",
    "    i += 1"
   ]
  },
  {
   "cell_type": "markdown",
   "metadata": {},
   "source": [
    "13. If you had a function named bacon() inside a module named spam, how would you call it after importing spam?\n",
    "def bacon(spam):\n",
    "    print(\"hello\")\n",
    "bacon"
   ]
  }
 ],
 "metadata": {
  "kernelspec": {
   "display_name": "Python 3",
   "language": "python",
   "name": "python3"
  },
  "language_info": {
   "codemirror_mode": {
    "name": "ipython",
    "version": 3
   },
   "file_extension": ".py",
   "mimetype": "text/x-python",
   "name": "python",
   "nbconvert_exporter": "python",
   "pygments_lexer": "ipython3",
   "version": "3.7.6"
  }
 },
 "nbformat": 4,
 "nbformat_minor": 4
}
