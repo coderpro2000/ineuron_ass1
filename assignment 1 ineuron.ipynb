{
 "cells": [
  {
   "cell_type": "markdown",
   "metadata": {},
   "source": [
    "1. In the below elements which of them are values or an expression? eg:- values can be\n",
    "integer or string and expressions will be mathematical operators.\n",
    "*          -- it is used for multiplication , for ex - 2*3=6\n",
    "'hello'    -- it is used for string value, to store the name in a variable; ex-- a=\"hello\"\n",
    "-87.8      -- it is negative float value\n",
    "-          -- it is used for subtraction for ex -- 3-2=1\n",
    "/          -- it is used for division for ex-- 4/2=2\n",
    "+          --  it is used for addition for ex- 3+2=5\n",
    "6          -- it is used for int value"
   ]
  },
  {
   "cell_type": "markdown",
   "metadata": {},
   "source": [
    "2. What is the difference between string and variable?\n",
    "A Variable is a store of information, and a String is a type of information you would store in a Variable. A String is usually\n",
    "words, enclosed with \"\" Eg String x =\"Welcome to SoloLearn\" X is the Variable, and we declared it as a String, use the \n",
    "single = to assign the text to it."
   ]
  },
  {
   "cell_type": "markdown",
   "metadata": {},
   "source": [
    "3.Describe three different data types.\n",
    "they are three data types - int, float, string\n",
    "int -- it is used for int value for ex-- a=6 , print(type(a))= int\n",
    "float -- it is used for float value for ex-- a=6.6 , print(type(a))= float\n",
    "str -- it is used for string value for ex-- a=6\"hello\", print(type(a))= str"
   ]
  },
  {
   "cell_type": "markdown",
   "metadata": {},
   "source": [
    "4.What is an expression made up of? What do all expressions do?\n",
    "An expression is a combination of values, variables, operators, and calls to functions. Expressions need to be evaluated.\n"
   ]
  },
  {
   "cell_type": "markdown",
   "metadata": {},
   "source": [
    "5. This assignment statements, like spam = 10. What is the difference between anexpression and a statement?\n",
    "Expressions only contain identifiers, literals and operators, where operators include arithmetic and boolean operators, the \n",
    "function call operator () , can be reduced to some kind of \"value\", which can be any Python object.\n",
    "Statements in above example on the other hand, are everything that can make up a line (or several lines) of Python code"
   ]
  },
  {
   "cell_type": "markdown",
   "metadata": {},
   "source": [
    "6.After running the following code, what does the variable bacon contain?\n",
    "bacon = 22\n",
    "bacon + 1\n",
    "ans--- 23"
   ]
  },
  {
   "cell_type": "markdown",
   "metadata": {},
   "source": [
    "7. What should the values of the following two terms be?\n",
    "'spam'+'spamspam'----  'spamspamspam'\n",
    "'spam'*3--------   'spamspamspam'"
   ]
  },
  {
   "cell_type": "markdown",
   "metadata": {},
   "source": [
    "8. Why is eggs a valid variable name while 100 is invalid?\n",
    "Variable names cannot begin with a number. ... The int(), float(), and str() functions will evaluate to the integer, \n",
    "floating-point number, and string versions of the value passed to them."
   ]
  },
  {
   "cell_type": "markdown",
   "metadata": {},
   "source": [
    "9.What three functions can be used to get the integer, floating-point number, or string version of a value?\n",
    "\n",
    "The int(), float(), and str() functions will evaluate to the integer, floating-point number, and string versions of the value \n",
    "passed to them.\n"
   ]
  },
  {
   "cell_type": "markdown",
   "metadata": {},
   "source": [
    "10. Why does this expression cause an error? How can you fix it?\n",
    "'I have eaten '+ 99 +' burritos'\n",
    "TypeError: can only concatenate str (not \"int\") to str\n",
    "    how to solve\n",
    "    'I have eaten '+ str(99) +' burritos'----- 'I have eaten 99 burritos'"
   ]
  },
  {
   "cell_type": "code",
   "execution_count": 4,
   "metadata": {},
   "outputs": [
    {
     "data": {
      "text/plain": [
       "'I have eaten 99 burritos'"
      ]
     },
     "execution_count": 4,
     "metadata": {},
     "output_type": "execute_result"
    }
   ],
   "source": [
    "'I have eaten '+ str(99) +' burritos'"
   ]
  }
 ],
 "metadata": {
  "kernelspec": {
   "display_name": "Python 3",
   "language": "python",
   "name": "python3"
  },
  "language_info": {
   "codemirror_mode": {
    "name": "ipython",
    "version": 3
   },
   "file_extension": ".py",
   "mimetype": "text/x-python",
   "name": "python",
   "nbconvert_exporter": "python",
   "pygments_lexer": "ipython3",
   "version": "3.7.6"
  }
 },
 "nbformat": 4,
 "nbformat_minor": 4
}
