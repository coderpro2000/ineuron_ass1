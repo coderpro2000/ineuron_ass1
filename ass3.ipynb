{
 "cells": [
  {
   "cell_type": "code",
   "execution_count": null,
   "metadata": {},
   "outputs": [],
   "source": [
    "1. Why are functions advantageous to have in your programs?\n",
    "Functions reduce the need for duplicate code. This makes programs shorter, easier to read, and easier to update. ... A function\n",
    "call is what moves the program execution into the function, and the function call evaluates to the function's return value."
   ]
  },
  {
   "cell_type": "code",
   "execution_count": null,
   "metadata": {},
   "outputs": [],
   "source": [
    "2. When does the code in a function run: when it specified or when it called?\n",
    "Functions are \"self contained\" modules of code that accomplish a specific task. Functions ... The program comes to a line of \n",
    "code containing a \"function call\"."
   ]
  },
  {
   "cell_type": "code",
   "execution_count": null,
   "metadata": {},
   "outputs": [],
   "source": [
    "3. What statement creates a function?\n",
    "To create a function, we must first declare it and give it a name, the same way we'd create any variable, and then we follow it\n",
    "by a function definition: var sayHello = function() { }; We could put any code inside that function - one statement, multiple\n",
    "statements - depends on what we want to do."
   ]
  },
  {
   "cell_type": "code",
   "execution_count": null,
   "metadata": {},
   "outputs": [],
   "source": [
    "4. What is the difference between a function and a function call?\n",
    "Using a function to do a particular task any point in program is called as function call. So the difference between the function\n",
    "and function call is, A function is procedure to achieve a particular result while function call is using this function to \n",
    "achive that task."
   ]
  },
  {
   "cell_type": "code",
   "execution_count": null,
   "metadata": {},
   "outputs": [],
   "source": [
    "5. How many global scopes are there in a Python program? How many local scopes?\n",
    "When you use an unqualified name inside a function, Python searches three scopes—the local (L), then the global (G), and then\n",
    "the built-in (B)—and stops at the first place the name is found."
   ]
  },
  {
   "cell_type": "code",
   "execution_count": null,
   "metadata": {},
   "outputs": [],
   "source": [
    "6. What happens to variables in a local scope when the function call returns?\n",
    "The variable y only exists while the function is being executed — we call this its lifetime. When the execution of the function \n",
    "terminates (returns), the local variables are destroyed. Codelens helps you visualize this because the local variables\n",
    "disappear after the function returns."
   ]
  },
  {
   "cell_type": "code",
   "execution_count": null,
   "metadata": {},
   "outputs": [],
   "source": [
    "7. What is the concept of a return value? Is it possible to have a return value in an expression?\n",
    "In general, a function takes arguments (if any), performs some operations, and returns a value (or object). The value that a \n",
    "function returns to the caller is generally known as the function's return value."
   ]
  },
  {
   "cell_type": "code",
   "execution_count": null,
   "metadata": {},
   "outputs": [],
   "source": [
    "8. If a function does not have a return statement, what is the return value of a call to that function?\n",
    "If a function is defined to return a value but does not, and the calling function attempts to use the return value, you invoke \n",
    "undefined behavior. This is spelled out in section 6.9. ... If the } that terminates a function is reached, and the value of \n",
    "the function call is used by the caller, the behavior is undefined"
   ]
  },
  {
   "cell_type": "code",
   "execution_count": null,
   "metadata": {},
   "outputs": [],
   "source": [
    "9. How do you make a function variable refer to the global variable?\n",
    "You can use a global variable within other functions by declaring it as global within each function that assigns a value to it:\n",
    "\n",
    "globvar = 0\n",
    "\n",
    "def set_globvar_to_one():\n",
    "    global globvar    # Needed to modify global copy of globvar\n",
    "    globvar = 1\n",
    "\n",
    "def print_globvar():\n",
    "    print(globvar)     # No need for global declaration to read value of globvar\n",
    "\n",
    "set_globvar_to_one()\n",
    "print_globvar()       # Prints 1"
   ]
  },
  {
   "cell_type": "code",
   "execution_count": null,
   "metadata": {},
   "outputs": [],
   "source": [
    "10. What is the data type of None?\n",
    "The None keyword is used to define a null value, or no value at all. None is not the same as 0, False, or an empty string.\n",
    "None is a data type of its own (NoneType) and only None can be None."
   ]
  },
  {
   "cell_type": "code",
   "execution_count": null,
   "metadata": {},
   "outputs": [],
   "source": [
    "11. What does the sentence import areallyourpetsnamederic do?\n",
    "The int() , float() , and str( ) functions will evaluate to the integer, floating-point ... That import statement imports a\n",
    "module named areallyourpetsnamederic . ... (Note that '3' * 2 is the string '33' , which is passed to int() before being \n",
    "divided by 11 ."
   ]
  },
  {
   "cell_type": "code",
   "execution_count": null,
   "metadata": {},
   "outputs": [],
   "source": [
    "12. If you had a bacon() feature in a spam module, what would you call it after importing spam?\n",
    "Module a in a.py:\n",
    "\n",
    "def foo():\n",
    "    print('Hi')\n",
    "Module b in b.py uses module a:\n",
    "\n",
    "import a\n",
    "\n",
    "a.foo()  # prints \"Hi\""
   ]
  },
  {
   "cell_type": "code",
   "execution_count": null,
   "metadata": {},
   "outputs": [],
   "source": [
    "13. What can you do to save a programme from crashing if it encounters an error?\n",
    "Errors detected during execution are called exceptions and are not unconditionally fatal. Exceptions are raised when the \n",
    "program encounters an error during its execution. They disrupt the normal flow of the program and usually end it abruptly. To\n",
    "avoid this, you can catch them and handle them appropriately."
   ]
  },
  {
   "cell_type": "code",
   "execution_count": null,
   "metadata": {},
   "outputs": [],
   "source": [
    "14. What is the purpose of the try clause? What is the purpose of the except clause?\n",
    "The try and except block in Python is used to catch and handle exceptions. Python executes code following the try statement as \n",
    "a “normal” part of the program. The code that follows the except statement is the program's response to any exceptions in the\n",
    "preceding try clause."
   ]
  }
 ],
 "metadata": {
  "kernelspec": {
   "display_name": "Python 3",
   "language": "python",
   "name": "python3"
  },
  "language_info": {
   "codemirror_mode": {
    "name": "ipython",
    "version": 3
   },
   "file_extension": ".py",
   "mimetype": "text/x-python",
   "name": "python",
   "nbconvert_exporter": "python",
   "pygments_lexer": "ipython3",
   "version": "3.7.6"
  }
 },
 "nbformat": 4,
 "nbformat_minor": 4
}
